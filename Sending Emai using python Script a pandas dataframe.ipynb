{
 "cells": [
  {
   "cell_type": "markdown",
   "metadata": {},
   "source": [
    "# <font color=\"Black\"> Sending email with Pandas dataframe</font>"
   ]
  },
  {
   "cell_type": "markdown",
   "metadata": {},
   "source": [
    "# Sending email with Pandas dataframe"
   ]
  },
  {
   "cell_type": "code",
   "execution_count": null,
   "metadata": {},
   "outputs": [],
   "source": []
  },
  {
   "cell_type": "code",
   "execution_count": 5,
   "metadata": {},
   "outputs": [
    {
     "name": "stdout",
     "output_type": "stream",
     "text": [
      "<class 'email.mime.multipart.MIMEMultipart'>\n",
      "Success::  Email Sent!!!! \n"
     ]
    }
   ],
   "source": [
    "'''\n",
    "WORKING CODE\n",
    "\n",
    "***\n",
    "NOTE: MAKE SURE YOU turn on Less secure app access in Google apps if you are using google mails for sending mails\n",
    "Below is the link to on the access after logging in into your acount:\n",
    "            Link::  https://myaccount.google.com/lesssecureapps\n",
    "***\n",
    "\n",
    "'''\n",
    "\n",
    "import pandas as pd\n",
    "import datetime as dt\n",
    "import smtplib\n",
    "from email.mime.text import MIMEText\n",
    "from email.mime.application import MIMEApplication\n",
    "from email.mime.multipart import MIMEMultipart\n",
    "from smtplib import SMTP\n",
    " \n",
    "\n",
    "def send_email():\n",
    "    try:\n",
    "        recipients = ['recipeintID@gmail.com'] \n",
    "        emaillist = [elem.strip().split(',') for elem in recipients]\n",
    "        msg = MIMEMultipart()\n",
    "        msg['Subject'] = \"pd dataframe table\"\n",
    "        msg['From'] = 'userID@gmail.com'\n",
    "\n",
    "        #Change the end date to the current date\n",
    "        month = dt.datetime.now().strftime(\"%m\")\n",
    "        day   = dt.datetime.now().strftime(\"%d\")\n",
    "        year  = dt.datetime.now().strftime(\"%Y\")\n",
    "        url = 'https://www8.miamidade.gov/Apps/COB/LobbyistOnline/Views/Queries/Registration_ByPeriod_List.aspx?startdate=08%2f01%2f2019&enddate={}%2f{}%2f{}'.format(month,day,year)\n",
    "\n",
    "\n",
    "        print(type(msg))\n",
    "        df = pd.read_html(url)\n",
    "        df = df[3]\n",
    "\n",
    "        #clean the types, see defaults df.dtypes\n",
    "        df['Employed On'].astype('datetime64')\n",
    "        df.drop(df.tail(1).index,inplace=True)\n",
    "        #df.style.hide_index()\n",
    "\n",
    "        #Formats the table on the IDLE -> Python Shell display\n",
    "        pd.set_option('display.max_rows', 500)\n",
    "        pd.set_option('display.max_columns', 500)\n",
    "        pd.set_option('display.width', 1000)\n",
    "\n",
    "        message = df.sort_values(by='Employed On',ascending=False)#.to_string(index=False)\n",
    "\n",
    "        #print(message)\n",
    "\n",
    "        html = \"\"\"\\\n",
    "        <html>\n",
    "          <head></head>\n",
    "          <body>\n",
    "            {0}\n",
    "          </body>\n",
    "        </html>\n",
    "        \"\"\".format(message.to_html(index=False))\n",
    "\n",
    "        part1 = MIMEText(html, 'html')\n",
    "        msg.attach(part1)\n",
    "        \n",
    "        try:\n",
    "            \"\"\"Checking for connection errors\"\"\"\n",
    "\n",
    "            server = smtplib.SMTP('smtp.gmail.com', 587)\n",
    "            server.ehlo()#NOT NECESSARY\n",
    "            server.starttls()\n",
    "            server.ehlo()#NOT NECESSARY\n",
    "            server.login('userLogInID@gmail.com','paswd')\n",
    "            server.sendmail(msg['From'], emaillist , msg.as_string())\n",
    "            server.close()\n",
    "            print(\"Success::  Email Sent!!!! \")\n",
    "        \n",
    "        except Exception as e:\n",
    "            print(\"Error for connection: {}\".format(e))\n",
    "        \n",
    "        \n",
    "    except Exception as error:\n",
    "        print(error)\n",
    "    \n",
    "\n",
    "send_email()\n",
    "        "
   ]
  },
  {
   "cell_type": "markdown",
   "metadata": {},
   "source": [
    "# 2nd version"
   ]
  },
  {
   "cell_type": "code",
   "execution_count": null,
   "metadata": {},
   "outputs": [],
   "source": [
    "import pandas as pd\n",
    "from email.mime.text import MIMEText\n",
    "from email.mime.application import MIMEApplication\n",
    "from email.mime.multipart import MIMEMultipart\n",
    "from smtplib import SMTP\n",
    "import smtplib\n",
    "import sys\n",
    "\n",
    "\n",
    "df_1 = ([1,2,3,5])\n",
    "df_2 = ([10,20,30,50])\n",
    "df_test =pd.concat([pd.DataFrame(df_1),pd.DataFrame(df_2)],axis=1)\n",
    "\n",
    "recipients = ['recipientID@gmail.com'] \n",
    "emaillist = [elem.strip().split(',') for elem in recipients]\n",
    "msg = MIMEMultipart()\n",
    "msg['Subject'] = \"dataframe table TEST FROM GMAIL\"\n",
    "msg['From'] = 'userId@gmail.com'\n",
    "\n",
    "html = \"\"\"\\\n",
    "        <html>\n",
    "          <head></head>\n",
    "          <body>\n",
    "            {0}\n",
    "          </body>\n",
    "        </html>\n",
    "\"\"\".format(df_test.to_html(index=False))\n",
    "\n",
    "part1 = MIMEText(html, 'html')\n",
    "msg.attach(part1)\n",
    "\n",
    "try:\n",
    "    \"\"\"Checking for connection errors\"\"\"\n",
    "\n",
    "    server = smtplib.SMTP('smtp.gmail.com', 587)\n",
    "    server.ehlo()#NOT NECESSARY\n",
    "    server.starttls()\n",
    "    server.ehlo()#NOT NECESSARY\n",
    "    server.login('userID@gmail.com',Passwd)\n",
    "    server.sendmail(msg['From'], emaillist , msg.as_string())\n",
    "    server.close()\n",
    "\n",
    "except Exception as e:\n",
    "    print(\"Error for connection: {}\".format(e))\n"
   ]
  },
  {
   "cell_type": "code",
   "execution_count": null,
   "metadata": {},
   "outputs": [],
   "source": []
  }
 ],
 "metadata": {
  "kernelspec": {
   "display_name": "Python 3",
   "language": "python",
   "name": "python3"
  },
  "language_info": {
   "codemirror_mode": {
    "name": "ipython",
    "version": 3
   },
   "file_extension": ".py",
   "mimetype": "text/x-python",
   "name": "python",
   "nbconvert_exporter": "python",
   "pygments_lexer": "ipython3",
   "version": "3.7.4"
  }
 },
 "nbformat": 4,
 "nbformat_minor": 4
}
